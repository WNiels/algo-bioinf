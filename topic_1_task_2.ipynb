{
 "cells": [
  {
   "cell_type": "markdown",
   "metadata": {},
   "source": []
  },
  {
   "cell_type": "markdown",
   "metadata": {},
   "source": [
    "## Case study\n",
    "### Worst Case\n",
    "No commen characters.\n",
    "*Example*:\n",
    "s: AAAA\n",
    "t: BB\n",
    "--> Shortest commen substring is the combined length of both strings.\n",
    "### Best Case\n",
    "Only commen characters.\n",
    "*Example*:\n",
    "s: AAAA\n",
    "t: AA\n",
    "--> Shortest commen substring is the lenth of the longer string.\n",
    "## Possible Solutions:\n",
    "### Brute Force\n",
    "... we all know where this is going ...\n",
    "###\n",
    "* take the shorter string\n",
    "* take it's last character\n",
    "* for each matching position with the other string take a recursive step\n"
   ]
  },
  {
   "cell_type": "markdown",
   "metadata": {},
   "source": [
    "* The given probem is also commonly reffered to as Shortest Common Supersequence (SCS).\n",
    "* The problem is known to have an optimal substructure, hence may be solved by devide and conquer."
   ]
  },
  {
   "cell_type": "markdown",
   "metadata": {},
   "source": [
    "## Solving Strategy\n",
    "We will solve the problem recursivly with a function called SCS(s,t) -> x.\n",
    "The function does take two squences for which to find the SCS and returns an SCS for the given sequences.\n",
    "Given two sequences s and t with |s|=n and |t|=m the SCS function computes one of the following two distinct cases.\n",
    "### 1. Both sequences end in the same character. s[n] = t[m]\n",
    "Split the last character of the squences and append it to the returned result.\n",
    "Perform the SCS function on the reduced squences an prepend it to the returned result.\n",
    "return SCS(s[0...n-1], t[0...m-1]) + s[n]\n",
    "### 2. The sequences end in different characters. s[n] != t[m]\n",
    "Here we have to find the minimal SCS of the two cases (either taking the last character of s or t as our next SCS reult character).\n",
    "return minimum(SCS(s[0...n-1], t[0...m])+s[n],SCS(s[0...n], t[0...m-1])+t[m])"
   ]
  },
  {
   "cell_type": "markdown",
   "metadata": {},
   "source": [
    "## Example\n",
    "s = ABCBDAB\n",
    "t = BDCABA\n",
    "\n",
    "1. s and t end in different characters\n",
    "return min(SCS(s[0:-1], t)+s[-1], SCS(s, t[0:-1])+t[-1])\n",
    "SCS(s,t) = min(SCS(ABCBDA, BDCABA) + B, SCS(ABCBDAB, BDCAB) + A)"
   ]
  },
  {
   "cell_type": "code",
   "execution_count": 2,
   "metadata": {},
   "outputs": [],
   "source": [
    "def SCS(s:str, t:str) -> str:\n",
    "    if len(s) == 0 or len(t) == 0:  # If we reached the end of one sequence the rest of the scs must be the other sequence.\n",
    "        return s+t                  # Simply concatenate the two strings so we dont have to separatly check both cases.\n",
    "\n",
    "    if s[-1] == t[-1]:              # We can use \"-\" to access a list backwards in python.\n",
    "        return SCS(s[0:-1], t[0:-1]) + s[-1]\n",
    "\n",
    "    return min(SCS(s[0:-1], t)+s[-1], SCS(s, t[0:-1])+t[-1])"
   ]
  },
  {
   "cell_type": "markdown",
   "metadata": {},
   "source": [
    "## Proof Of Correctness\n",
    "\n",
    "def SCS(s:str, t:str) -> str:\n",
    "    if len(s) == 0 or len(t) == 0:  \n",
    "        return s+t                  \n",
    "\n",
    "    if s[-1] == t[-1]:              \n",
    "        return SCS(s[0:-1], t[0:-1]) + s[-1]\n",
    "\n",
    "    return min(SCS(s[0:-1], t)+s[-1], SCS(s, t[0:-1])+t[-1])\n",
    "\n",
    "\n",
    "Formal description of the algorithm\n",
    "\n",
    "Let s and t be sequences of a common alphabet.\n",
    "SCS() is a function that returns an SCS for two given sequences.\n",
    "\n",
    "\n",
    "1. Both sequences are empty -> terminate\n",
    "2. One sequence is empty -> append the none empty to the solution sequence and terminate\n",
    "3. Both sequences end in the same character -> append the character to the solution sequence, shorten both sequences by the last character and calculate their SCS\n",
    "4. Else Calculate \n",
    "\n",
    "    \n",
    "Given that both sequences end in the same character\n",
    "if s[-1] == t[-1]:              \n",
    "        return SCS(s[0:-1], t[0:-1]) + s[-1]\n",
    "### Proof\n",
    "**Definitions**\n",
    "* Let $s[0...n], t[0...m], u[0...x]$ be sequences of an alphabet.\n",
    "* And $SCS(s,t) = u$, where $SCS$ is a function to calculate the shortest common supersequence.\n",
    "* Let min() be a function, that returns the shortest of the given sequences.\n",
    "\n",
    "Each call of SCS(s,t) results in one of the following four cases:\n",
    "#### 1. Both sequences are empty.\n",
    "The SCS is the empty sequence.\n",
    "#### 2. One sequence is empty.\n",
    "The SCS is the none empty sequence. Any other sequence would have to few characters or more characters as the none empty sequence.\n",
    "#### 3. Both sequences end in the same character.\n",
    "##### Contradiction\n",
    "With the condition $s[n] = t[m] != u[x]$.\n",
    "\n",
    "For $u$ to still be a common supersequence $u[0...x-1]$ must be a supersequence to $s$ and $t$. But now there is a shorter supersequence, thus $u$ cannot be the shortest supersequence to $s$ and $t$. So the SCS is SCS(s,t) = SCS(s[0...n-1], t[0...m-1]) + s[n] for two sequences s,t ending in the same character.\n",
    "#### 4. The sequences end in different characters.\n",
    "The SCS has to end with either the last character of s or t.\n",
    "##### Contradiction\n",
    "$s[n] != u[x] != t[m]$\n",
    "\n",
    "For $u$ to still be a common supersequence $u[0...x-1]$ must be a supersequence to $s$ and $t$. But now there is a shorter supersequence, thus $u$ cannot be the shortest supersequence to $s$ and $t$. So the $SCS$ has to end either in $s[n]$ or $t[n]$ resulting in two options:\n",
    "1. $SCS(s,t) = SCS(s[0...n-1], t[0...m]) + s[n]$\n",
    "2. $SCS(s,t) = SCS(s[0...n], t[0...m-1]) + t[m]$\n",
    "\n",
    "By definition $min(SCS(s[0...n-1], t[0...m]) + s[n], SCS(s[0...n], t[0...m-1]) + t[m])$ returns the shortest sequence, the SCS.\n",
    "\n",
    "### Runtime\n"
   ]
  },
  {
   "cell_type": "code",
   "execution_count": 3,
   "metadata": {},
   "outputs": [
    {
     "name": "stdout",
     "output_type": "stream",
     "text": [
      "SCS is \"ABCBDCABA\" with length 9\n"
     ]
    }
   ],
   "source": [
    "s = \"ABCBDAB\"\n",
    "t = \"BDCABA\"\n",
    "scs = SCS(s,t)\n",
    "print(\"SCS is \\\"{}\\\" with length {}\".format(scs, len(scs)))"
   ]
  },
  {
   "cell_type": "markdown",
   "metadata": {},
   "source": [
    "Time complexity of this solution is O(2^(m+n))\n",
    "With the worst case beeing two sequences without matching characters."
   ]
  },
  {
   "cell_type": "markdown",
   "metadata": {},
   "source": [
    "# Dynamic Programming Solution\n",
    "Given this problem has an optimal substructur and possibly overlapping subproblems it may be enhanced by memorizing already solved subproblems.\n",
    "We do this by passing and additional lookup table with our parameters, where each solution in stored in a key - value fashion. The key beeing unique for two given sequences and the value as SCS for the two sequences."
   ]
  },
  {
   "cell_type": "code",
   "execution_count": 4,
   "metadata": {},
   "outputs": [],
   "source": [
    "def SCS_DP(s: str, t: str, lookup: dict = {}) -> str:\n",
    "    if len(s) == 0 or len(t) == 0:  \n",
    "        return s+t\n",
    "\n",
    "    key = (s,t)\n",
    "\n",
    "    if not key in lookup:                 \n",
    "        if s[-1] == t[-1]:              \n",
    "            lookup[key] = SCS_DP(s[0:-1], t[0:-1], lookup) + s[-1]\n",
    "        else:\n",
    "            lookup[key] = min(SCS_DP(s[0:-1], t, lookup)+s[-1], SCS_DP(s, t[0:-1], lookup)+t[-1])\n",
    "\n",
    "    return lookup[key]"
   ]
  },
  {
   "cell_type": "code",
   "execution_count": 5,
   "metadata": {},
   "outputs": [
    {
     "name": "stdout",
     "output_type": "stream",
     "text": [
      "SCS is \"ABCBDCABA\" with length 9\n"
     ]
    }
   ],
   "source": [
    "s = \"ABCBDAB\"\n",
    "t = \"BDCABA\"\n",
    "scs = SCS_DP(s,t)\n",
    "print(\"SCS is \\\"{}\\\" with length {}\".format(scs, len(scs)))"
   ]
  },
  {
   "cell_type": "markdown",
   "metadata": {},
   "source": [
    "## References\n",
    "* https://www.techiedelight.com/shortest-common-supersequence-introduction-scs-length/"
   ]
  },
  {
   "cell_type": "markdown",
   "metadata": {},
   "source": [
    "Testing the function with a decorator to print out the recursion tree."
   ]
  },
  {
   "cell_type": "code",
   "execution_count": 6,
   "metadata": {},
   "outputs": [
    {
     "name": "stdout",
     "output_type": "stream",
     "text": [
      "|-- SCS_DP(ABCBDAB, BDCABA)"
     ]
    },
    {
     "name": "stderr",
     "output_type": "stream",
     "text": [
      "Error: Could not open \"recursion.gv.pdf\" for writing : Permission denied\n"
     ]
    },
    {
     "name": "stdout",
     "output_type": "stream",
     "text": [
      "\n",
      "|  |-- SCS_DP(ABCBDA)\n",
      "|  |  |-- SCS_DP()\n",
      "|  |  |  |-- SCS_DP(ABCB)\n",
      "|  |  |  |  |-- SCS_DP()\n",
      "|  |  |  |  |  |-- SCS_DP(AB)\n",
      "|  |  |  |  |  |  |-- SCS_DP(A)\n",
      "|  |  |  |  |  |  |  |-- SCS_DP()\n",
      "|  |  |  |  |  |  |  |  |-- return BDC\n",
      "|  |  |  |  |  |  |  |-- return BDCA\n",
      "|  |  |  |  |  |  |-- SCS_DP()\n",
      "|  |  |  |  |  |  |  |-- SCS_DP(A)\n",
      "|  |  |  |  |  |  |  |  |-- SCS_DP()\n",
      "|  |  |  |  |  |  |  |  |  |-- return BDC\n",
      "|  |  |  |  |  |  |  |  |-- SCS_DP()\n",
      "|  |  |  |  |  |  |  |  |  |-- SCS_DP()\n",
      "|  |  |  |  |  |  |  |  |  |  |-- return BD\n",
      "|  |  |  |  |  |  |  |  |  |-- SCS_DP()\n",
      "|  |  |  |  |  |  |  |  |  |  |-- SCS_DP()\n",
      "|  |  |  |  |  |  |  |  |  |  |  |-- return B\n",
      "|  |  |  |  |  |  |  |  |  |  |-- SCS_DP()\n",
      "|  |  |  |  |  |  |  |  |  |  |  |-- return A\n",
      "|  |  |  |  |  |  |  |  |  |  |-- return AB\n",
      "|  |  |  |  |  |  |  |  |  |-- return ABD\n",
      "|  |  |  |  |  |  |  |  |-- return ABDC\n",
      "|  |  |  |  |  |  |  |-- SCS_DP()\n",
      "|  |  |  |  |  |  |  |  |-- SCS_DP(A)\n",
      "|  |  |  |  |  |  |  |  |  |-- return ABD\n",
      "|  |  |  |  |  |  |  |  |-- SCS_DP()\n",
      "|  |  |  |  |  |  |  |  |  |-- SCS_DP()\n",
      "|  |  |  |  |  |  |  |  |  |  |-- return A\n",
      "|  |  |  |  |  |  |  |  |  |-- return AB\n",
      "|  |  |  |  |  |  |  |  |-- return ABD\n",
      "|  |  |  |  |  |  |  |-- return ABDC\n",
      "|  |  |  |  |  |  |-- return ABDCA\n",
      "|  |  |  |  |  |-- SCS_DP()\n",
      "|  |  |  |  |  |  |-- SCS_DP()\n",
      "|  |  |  |  |  |  |  |-- return ABD\n",
      "|  |  |  |  |  |  |-- return ABDC\n",
      "|  |  |  |  |  |-- return ABDCA\n",
      "|  |  |  |  |-- return ABDCAB\n",
      "|  |  |  |-- SCS_DP()\n",
      "|  |  |  |  |-- SCS_DP(ABCB)\n",
      "|  |  |  |  |  |-- SCS_DP(ABC)\n",
      "|  |  |  |  |  |  |-- return ABDCA\n",
      "|  |  |  |  |  |-- SCS_DP()\n",
      "|  |  |  |  |  |  |-- SCS_DP(ABC)\n",
      "|  |  |  |  |  |  |  |-- return ABDC\n",
      "|  |  |  |  |  |  |-- SCS_DP()\n",
      "|  |  |  |  |  |  |  |-- SCS_DP(ABC)\n",
      "|  |  |  |  |  |  |  |  |-- SCS_DP(AB)\n",
      "|  |  |  |  |  |  |  |  |  |-- return ABD\n",
      "|  |  |  |  |  |  |  |  |-- SCS_DP()\n",
      "|  |  |  |  |  |  |  |  |  |-- SCS_DP(AB)\n",
      "|  |  |  |  |  |  |  |  |  |  |-- return AB\n",
      "|  |  |  |  |  |  |  |  |  |-- SCS_DP()\n",
      "|  |  |  |  |  |  |  |  |  |  |-- return ABC\n",
      "|  |  |  |  |  |  |  |  |  |-- return ABC\n",
      "|  |  |  |  |  |  |  |  |-- return ABCD\n",
      "|  |  |  |  |  |  |  |-- SCS_DP()\n",
      "|  |  |  |  |  |  |  |  |-- SCS_DP()\n",
      "|  |  |  |  |  |  |  |  |  |-- return ABC\n",
      "|  |  |  |  |  |  |  |  |-- return ABCB\n",
      "|  |  |  |  |  |  |  |-- return ABCBD\n",
      "|  |  |  |  |  |  |-- return ABCBDC\n",
      "|  |  |  |  |  |-- return ABCBDCA\n",
      "|  |  |  |  |-- SCS_DP()\n",
      "|  |  |  |  |  |-- SCS_DP(ABCB)\n",
      "|  |  |  |  |  |  |-- return ABCBDC\n",
      "|  |  |  |  |  |-- SCS_DP()\n",
      "|  |  |  |  |  |  |-- SCS_DP()\n",
      "|  |  |  |  |  |  |  |-- return ABCB\n",
      "|  |  |  |  |  |  |-- return ABCBD\n",
      "|  |  |  |  |  |-- return ABCBDC\n",
      "|  |  |  |  |-- return ABCBDCA\n",
      "|  |  |  |-- return ABCBDCAB\n",
      "|  |  |-- return ABCBDCABA\n",
      "|  |-- SCS_DP()\n",
      "|  |  |-- SCS_DP()\n",
      "|  |  |  |-- SCS_DP()\n",
      "|  |  |  |  |-- return ABCBDC\n",
      "|  |  |  |-- return ABCBDCA\n",
      "|  |  |-- return ABCBDCAB\n",
      "|  |-- return ABCBDCABA\n",
      "ABCBDCABA\n"
     ]
    },
    {
     "ename": "CalledProcessError",
     "evalue": "Command '['dot.bat', '-Kdot', '-Tpdf', '-O', 'recursion.gv']' returned non-zero exit status 1. [stderr: b'Error: Could not open \"recursion.gv.pdf\" for writing : Permission denied\\r\\n']",
     "output_type": "error",
     "traceback": [
      "\u001b[1;31m---------------------------------------------------------------------------\u001b[0m",
      "\u001b[1;31mCalledProcessError\u001b[0m                        Traceback (most recent call last)",
      "\u001b[1;32m~\\AppData\\Local\\Temp/ipykernel_20752/1337893463.py\u001b[0m in \u001b[0;36m<module>\u001b[1;34m\u001b[0m\n\u001b[0;32m     24\u001b[0m \u001b[0mprint\u001b[0m\u001b[1;33m(\u001b[0m\u001b[0mscs\u001b[0m\u001b[1;33m)\u001b[0m\u001b[1;33m\u001b[0m\u001b[1;33m\u001b[0m\u001b[0m\n\u001b[0;32m     25\u001b[0m \u001b[1;31m# print(rv.graph)\u001b[0m\u001b[1;33m\u001b[0m\u001b[1;33m\u001b[0m\u001b[1;33m\u001b[0m\u001b[0m\n\u001b[1;32m---> 26\u001b[1;33m \u001b[0mrv\u001b[0m\u001b[1;33m.\u001b[0m\u001b[0mgraph\u001b[0m\u001b[1;33m.\u001b[0m\u001b[0mrender\u001b[0m\u001b[1;33m(\u001b[0m\u001b[1;34m'test-output/recursion.gv'\u001b[0m\u001b[1;33m,\u001b[0m \u001b[0mview\u001b[0m\u001b[1;33m=\u001b[0m\u001b[1;32mTrue\u001b[0m\u001b[1;33m)\u001b[0m\u001b[1;33m\u001b[0m\u001b[1;33m\u001b[0m\u001b[0m\n\u001b[0m\u001b[0;32m     27\u001b[0m \u001b[1;31m# Save recursion tree to a file\u001b[0m\u001b[1;33m\u001b[0m\u001b[1;33m\u001b[0m\u001b[1;33m\u001b[0m\u001b[0m\n",
      "\u001b[1;32m~\\Anaconda3\\envs\\algo-bioinf\\lib\\site-packages\\graphviz\\files.py\u001b[0m in \u001b[0;36mrender\u001b[1;34m(self, filename, directory, view, cleanup, format, renderer, formatter, quiet, quiet_view)\u001b[0m\n\u001b[0;32m    241\u001b[0m             \u001b[0mformat\u001b[0m \u001b[1;33m=\u001b[0m \u001b[0mself\u001b[0m\u001b[1;33m.\u001b[0m\u001b[0m_format\u001b[0m\u001b[1;33m\u001b[0m\u001b[1;33m\u001b[0m\u001b[0m\n\u001b[0;32m    242\u001b[0m \u001b[1;33m\u001b[0m\u001b[0m\n\u001b[1;32m--> 243\u001b[1;33m         rendered = backend.render(self._engine, format, filepath,\n\u001b[0m\u001b[0;32m    244\u001b[0m                                   \u001b[0mrenderer\u001b[0m\u001b[1;33m=\u001b[0m\u001b[0mrenderer\u001b[0m\u001b[1;33m,\u001b[0m \u001b[0mformatter\u001b[0m\u001b[1;33m=\u001b[0m\u001b[0mformatter\u001b[0m\u001b[1;33m,\u001b[0m\u001b[1;33m\u001b[0m\u001b[1;33m\u001b[0m\u001b[0m\n\u001b[0;32m    245\u001b[0m                                   quiet=quiet)\n",
      "\u001b[1;32m~\\Anaconda3\\envs\\algo-bioinf\\lib\\site-packages\\graphviz\\backend.py\u001b[0m in \u001b[0;36mrender\u001b[1;34m(***failed resolving arguments***)\u001b[0m\n\u001b[0;32m    223\u001b[0m         \u001b[0mcwd\u001b[0m \u001b[1;33m=\u001b[0m \u001b[1;32mNone\u001b[0m\u001b[1;33m\u001b[0m\u001b[1;33m\u001b[0m\u001b[0m\n\u001b[0;32m    224\u001b[0m \u001b[1;33m\u001b[0m\u001b[0m\n\u001b[1;32m--> 225\u001b[1;33m     \u001b[0mrun\u001b[0m\u001b[1;33m(\u001b[0m\u001b[0mcmd\u001b[0m\u001b[1;33m,\u001b[0m \u001b[0mcapture_output\u001b[0m\u001b[1;33m=\u001b[0m\u001b[1;32mTrue\u001b[0m\u001b[1;33m,\u001b[0m \u001b[0mcwd\u001b[0m\u001b[1;33m=\u001b[0m\u001b[0mcwd\u001b[0m\u001b[1;33m,\u001b[0m \u001b[0mcheck\u001b[0m\u001b[1;33m=\u001b[0m\u001b[1;32mTrue\u001b[0m\u001b[1;33m,\u001b[0m \u001b[0mquiet\u001b[0m\u001b[1;33m=\u001b[0m\u001b[0mquiet\u001b[0m\u001b[1;33m)\u001b[0m\u001b[1;33m\u001b[0m\u001b[1;33m\u001b[0m\u001b[0m\n\u001b[0m\u001b[0;32m    226\u001b[0m     \u001b[1;32mreturn\u001b[0m \u001b[0mrendered\u001b[0m\u001b[1;33m\u001b[0m\u001b[1;33m\u001b[0m\u001b[0m\n\u001b[0;32m    227\u001b[0m \u001b[1;33m\u001b[0m\u001b[0m\n",
      "\u001b[1;32m~\\Anaconda3\\envs\\algo-bioinf\\lib\\site-packages\\graphviz\\backend.py\u001b[0m in \u001b[0;36mrun\u001b[1;34m(cmd, input, capture_output, check, encoding, quiet, **kwargs)\u001b[0m\n\u001b[0;32m    183\u001b[0m \u001b[1;33m\u001b[0m\u001b[0m\n\u001b[0;32m    184\u001b[0m     \u001b[1;32mif\u001b[0m \u001b[0mcheck\u001b[0m \u001b[1;32mand\u001b[0m \u001b[0mproc\u001b[0m\u001b[1;33m.\u001b[0m\u001b[0mreturncode\u001b[0m\u001b[1;33m:\u001b[0m\u001b[1;33m\u001b[0m\u001b[1;33m\u001b[0m\u001b[0m\n\u001b[1;32m--> 185\u001b[1;33m         raise CalledProcessError(proc.returncode, cmd,\n\u001b[0m\u001b[0;32m    186\u001b[0m                                  output=out, stderr=err)\n\u001b[0;32m    187\u001b[0m \u001b[1;33m\u001b[0m\u001b[0m\n",
      "\u001b[1;31mCalledProcessError\u001b[0m: Command '['dot.bat', '-Kdot', '-Tpdf', '-O', 'recursion.gv']' returned non-zero exit status 1. [stderr: b'Error: Could not open \"recursion.gv.pdf\" for writing : Permission denied\\r\\n']"
     ]
    }
   ],
   "source": [
    "from recursion_viz import recursion_visualizer as rv\n",
    "\n",
    "# Add decorator\n",
    "# Decorator accepts optional arguments: ignore_args , show_argument_name, show_return_value and node_properties_kwargs\n",
    "@rv\n",
    "def SCS_DP(s: str, t: str, lookup: dict = {}) -> str:\n",
    "    if len(s) == 0 or len(t) == 0:  \n",
    "        return s+t\n",
    "\n",
    "    key = (s,t)\n",
    "\n",
    "    if not key in lookup:                 \n",
    "        if s[-1] == t[-1]:              \n",
    "            lookup[key] = SCS_DP(s=s[0:-1], t=t[0:-1], lookup=lookup) + s[-1]\n",
    "        else:\n",
    "            lookup[key] = min(SCS_DP(s[0:-1], t=t, lookup=lookup)+s[-1], SCS_DP(s=s, t=t[0:-1], lookup=lookup)+t[-1])\n",
    "\n",
    "    return lookup[key]\n",
    "\n",
    "# Call function\n",
    "s = \"ABCBDAB\"\n",
    "t = \"BDCABA\"\n",
    "scs = SCS_DP(s,t)\n",
    "print(scs)\n",
    "# print(rv.graph)\n",
    "rv.graph.render('test-output/recursion.gv', view=True)\n",
    "# Save recursion tree to a file"
   ]
  },
  {
   "cell_type": "code",
   "execution_count": null,
   "metadata": {},
   "outputs": [],
   "source": []
  },
  {
   "cell_type": "code",
   "execution_count": null,
   "metadata": {},
   "outputs": [],
   "source": []
  }
 ],
 "metadata": {
  "interpreter": {
   "hash": "37be5b17884808cab5d1b3dabc4287a43cb9f4aa06ccb1a3c9b1da9151bf0c22"
  },
  "kernelspec": {
   "display_name": "Python 3.8.12 64-bit ('algo-bioinf': conda)",
   "name": "python3"
  },
  "language_info": {
   "codemirror_mode": {
    "name": "ipython",
    "version": 3
   },
   "file_extension": ".py",
   "mimetype": "text/x-python",
   "name": "python",
   "nbconvert_exporter": "python",
   "pygments_lexer": "ipython3",
   "version": "3.8.12"
  },
  "orig_nbformat": 4
 },
 "nbformat": 4,
 "nbformat_minor": 2
}
